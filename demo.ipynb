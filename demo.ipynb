{
 "cells": [
  {
   "cell_type": "code",
   "execution_count": 1,
   "id": "05846514-2810-4480-94c7-f349e012fcb2",
   "metadata": {},
   "outputs": [
    {
     "name": "stderr",
     "output_type": "stream",
     "text": [
      "/Users/vasileiosmermiklis/Documents/ML-assignment/venv/lib/python3.11/site-packages/tqdm/auto.py:21: TqdmWarning: IProgress not found. Please update jupyter and ipywidgets. See https://ipywidgets.readthedocs.io/en/stable/user_install.html\n",
      "  from .autonotebook import tqdm as notebook_tqdm\n"
     ]
    }
   ],
   "source": [
    "import pandas as pd\n",
    "import numpy as np\n",
    "from sklearn.preprocessing import OneHotEncoder, MinMaxScaler\n",
    "from sklearn.feature_selection import mutual_info_regression\n",
    "from sklearn.metrics import mean_absolute_percentage_error\n",
    "import matplotlib.pyplot as plt\n",
    "from timeparser import TimeParser\n",
    "from weather_predictor import WeatherPredictor"
   ]
  },
  {
   "cell_type": "code",
   "execution_count": 2,
   "id": "b6c0a38b-d92f-42a4-a84f-87687a9bf14a",
   "metadata": {},
   "outputs": [
    {
     "data": {
      "text/html": [
       "<div>\n",
       "<style scoped>\n",
       "    .dataframe tbody tr th:only-of-type {\n",
       "        vertical-align: middle;\n",
       "    }\n",
       "\n",
       "    .dataframe tbody tr th {\n",
       "        vertical-align: top;\n",
       "    }\n",
       "\n",
       "    .dataframe thead th {\n",
       "        text-align: right;\n",
       "    }\n",
       "</style>\n",
       "<table border=\"1\" class=\"dataframe\">\n",
       "  <thead>\n",
       "    <tr style=\"text-align: right;\">\n",
       "      <th></th>\n",
       "      <th>id</th>\n",
       "      <th>timestamp</th>\n",
       "      <th>value</th>\n",
       "      <th>identifier</th>\n",
       "      <th>value_type_id</th>\n",
       "      <th>location_id</th>\n",
       "      <th>source_id</th>\n",
       "    </tr>\n",
       "  </thead>\n",
       "  <tbody>\n",
       "    <tr>\n",
       "      <th>4495</th>\n",
       "      <td>530687</td>\n",
       "      <td>2019-05-01 19:40:09</td>\n",
       "      <td>0.00</td>\n",
       "      <td>P1H</td>\n",
       "      <td>12</td>\n",
       "      <td>23.0</td>\n",
       "      <td>5</td>\n",
       "    </tr>\n",
       "    <tr>\n",
       "      <th>198529</th>\n",
       "      <td>5724791</td>\n",
       "      <td>2019-07-10 20:40:05</td>\n",
       "      <td>15.00</td>\n",
       "      <td>TDP</td>\n",
       "      <td>15</td>\n",
       "      <td>23.0</td>\n",
       "      <td>5</td>\n",
       "    </tr>\n",
       "    <tr>\n",
       "      <th>73979</th>\n",
       "      <td>2425314</td>\n",
       "      <td>2019-06-25 14:31:25</td>\n",
       "      <td>1008.35</td>\n",
       "      <td>PMSL</td>\n",
       "      <td>45</td>\n",
       "      <td>27.0</td>\n",
       "      <td>5</td>\n",
       "    </tr>\n",
       "    <tr>\n",
       "      <th>290510</th>\n",
       "      <td>6033435</td>\n",
       "      <td>2019-07-17 21:00:09</td>\n",
       "      <td>0.00</td>\n",
       "      <td>UVI</td>\n",
       "      <td>16</td>\n",
       "      <td>116.0</td>\n",
       "      <td>5</td>\n",
       "    </tr>\n",
       "    <tr>\n",
       "      <th>251756</th>\n",
       "      <td>5908197</td>\n",
       "      <td>2019-07-15 00:07:09</td>\n",
       "      <td>0.00</td>\n",
       "      <td>P</td>\n",
       "      <td>37</td>\n",
       "      <td>30.0</td>\n",
       "      <td>5</td>\n",
       "    </tr>\n",
       "  </tbody>\n",
       "</table>\n",
       "</div>"
      ],
      "text/plain": [
       "             id            timestamp    value identifier  value_type_id  \\\n",
       "4495     530687  2019-05-01 19:40:09     0.00        P1H             12   \n",
       "198529  5724791  2019-07-10 20:40:05    15.00        TDP             15   \n",
       "73979   2425314  2019-06-25 14:31:25  1008.35       PMSL             45   \n",
       "290510  6033435  2019-07-17 21:00:09     0.00        UVI             16   \n",
       "251756  5908197  2019-07-15 00:07:09     0.00          P             37   \n",
       "\n",
       "        location_id  source_id  \n",
       "4495           23.0          5  \n",
       "198529         23.0          5  \n",
       "73979          27.0          5  \n",
       "290510        116.0          5  \n",
       "251756         30.0          5  "
      ]
     },
     "execution_count": 2,
     "metadata": {},
     "output_type": "execute_result"
    }
   ],
   "source": [
    "df = pd.read_csv('wheather_data.csv')\n",
    "df = df.sample(frac=1)\n",
    "df.head()"
   ]
  },
  {
   "cell_type": "code",
   "execution_count": 3,
   "id": "089adb54",
   "metadata": {},
   "outputs": [
    {
     "name": "stdout",
     "output_type": "stream",
     "text": [
      "Number of NaN values:\n"
     ]
    },
    {
     "data": {
      "text/plain": [
       "timestamp        0\n",
       "value            0\n",
       "identifier       0\n",
       "value_type_id    0\n",
       "location_id      0\n",
       "source_id        0\n",
       "dtype: int64"
      ]
     },
     "execution_count": 3,
     "metadata": {},
     "output_type": "execute_result"
    }
   ],
   "source": [
    "df = df.drop(columns=[\"id\"])\n",
    "print(\"Number of NaN values:\")\n",
    "df.isna().sum()"
   ]
  },
  {
   "cell_type": "code",
   "execution_count": 4,
   "id": "45a92a99",
   "metadata": {},
   "outputs": [
    {
     "name": "stdout",
     "output_type": "stream",
     "text": [
      "Min time: 2019-04-25 13:20:09, max time: 2019-07-29 23:40:08\n"
     ]
    },
    {
     "data": {
      "text/html": [
       "<div>\n",
       "<style scoped>\n",
       "    .dataframe tbody tr th:only-of-type {\n",
       "        vertical-align: middle;\n",
       "    }\n",
       "\n",
       "    .dataframe tbody tr th {\n",
       "        vertical-align: top;\n",
       "    }\n",
       "\n",
       "    .dataframe thead th {\n",
       "        text-align: right;\n",
       "    }\n",
       "</style>\n",
       "<table border=\"1\" class=\"dataframe\">\n",
       "  <thead>\n",
       "    <tr style=\"text-align: right;\">\n",
       "      <th></th>\n",
       "      <th>value</th>\n",
       "    </tr>\n",
       "  </thead>\n",
       "  <tbody>\n",
       "    <tr>\n",
       "      <th>min</th>\n",
       "      <td>-0.01900</td>\n",
       "    </tr>\n",
       "    <tr>\n",
       "      <th>mean</th>\n",
       "      <td>153.45302</td>\n",
       "    </tr>\n",
       "    <tr>\n",
       "      <th>max</th>\n",
       "      <td>1021.90000</td>\n",
       "    </tr>\n",
       "  </tbody>\n",
       "</table>\n",
       "</div>"
      ],
      "text/plain": [
       "           value\n",
       "min     -0.01900\n",
       "mean   153.45302\n",
       "max   1021.90000"
      ]
     },
     "execution_count": 4,
     "metadata": {},
     "output_type": "execute_result"
    }
   ],
   "source": [
    "# Min, max of timestamps\n",
    "print(f'Min time: {df[\"timestamp\"].min()}, max time: {df[\"timestamp\"].max()}')\n",
    "# Min, max, count of numerical columns\n",
    "df[[\"value\"]].describe().loc[[\"min\", \"mean\", \"max\"]]"
   ]
  },
  {
   "cell_type": "markdown",
   "id": "4e9774ba",
   "metadata": {},
   "source": [
    "(!) Even though IDs are numbers, they are categorical data since they do not have numeric relationship to one another"
   ]
  },
  {
   "cell_type": "code",
   "execution_count": 5,
   "id": "b1d86189",
   "metadata": {},
   "outputs": [
    {
     "name": "stdout",
     "output_type": "stream",
     "text": [
      "location_id\n",
      "30.0     128465\n",
      "23.0     126003\n",
      "27.0      96668\n",
      "116.0     55563\n",
      "152.0        20\n",
      "Name: count, dtype: int64\n",
      "source_id\n",
      "5     313387\n",
      "10     52320\n",
      "6      41012\n",
      "Name: count, dtype: int64\n"
     ]
    }
   ],
   "source": [
    "# Find unique values and their frequencies\n",
    "df_cat = df[[\"identifier\", \"value_type_id\", \"location_id\", \"source_id\"]]\n",
    "frequencies = {c: df[c].value_counts() for c in df_cat.columns}\n",
    "# Indicative examples\n",
    "print(frequencies[\"location_id\"])\n",
    "print(frequencies[\"source_id\"])"
   ]
  },
  {
   "cell_type": "markdown",
   "id": "9c9b79a8",
   "metadata": {},
   "source": [
    "After some data exploration, I noticed there is a duplicate `value_type_id`"
   ]
  },
  {
   "cell_type": "code",
   "execution_count": 6,
   "id": "f6877196",
   "metadata": {},
   "outputs": [
    {
     "name": "stdout",
     "output_type": "stream",
     "text": [
      "Duplicate value_type_id:\n",
      "                  identifier  value_type_id\n",
      "332385                  PMSL             27\n",
      "196042  pressureMeanSeaLevel             27\n"
     ]
    }
   ],
   "source": [
    "# The unique combinations of identifier and value_type_id\n",
    "unique_combos = df[[\"identifier\", \"value_type_id\"]].drop_duplicates()\n",
    "# Find the value_type_id that corresponds to multiple identifiers\n",
    "duplicated_index = np.argwhere(unique_combos[\"value_type_id\"].duplicated())[0, 0]\n",
    "duplicated_value_id = unique_combos.iloc[duplicated_index]['value_type_id']\n",
    "print(\"Duplicate value_type_id:\")\n",
    "print(unique_combos[unique_combos[\"value_type_id\"] == duplicated_value_id])"
   ]
  },
  {
   "cell_type": "code",
   "execution_count": 7,
   "id": "d1aa84a0",
   "metadata": {},
   "outputs": [],
   "source": [
    "# Change all \"pressureMeanSeaLevel\" occurrences to \"PMSL\"\n",
    "df[\"identifier\"] = df[\"identifier\"].apply(\n",
    "    lambda x: \"PMSL\" if x == \"pressureMeanSeaLevel\" else x\n",
    ")"
   ]
  },
  {
   "cell_type": "markdown",
   "id": "3193dba1",
   "metadata": {},
   "source": [
    "We can see that each `value_type_id` corresponds to exactly one `source_id`. Therefore, the `source_id` does not provide any information."
   ]
  },
  {
   "cell_type": "code",
   "execution_count": 8,
   "id": "bf8fb61d",
   "metadata": {},
   "outputs": [
    {
     "name": "stdout",
     "output_type": "stream",
     "text": [
      "[]\n"
     ]
    }
   ],
   "source": [
    "multi_source_types = [] # The value_types that correspond to more than one source\n",
    "for i in df[\"value_type_id\"].unique():\n",
    "    if len(df[df[\"value_type_id\"] == i][\"source_id\"].unique()) != 1:\n",
    "        multi_source_types.append(i)\n",
    "print(multi_source_types)"
   ]
  },
  {
   "cell_type": "code",
   "execution_count": 9,
   "id": "db20b8da",
   "metadata": {},
   "outputs": [
    {
     "data": {
      "text/html": [
       "<div>\n",
       "<style scoped>\n",
       "    .dataframe tbody tr th:only-of-type {\n",
       "        vertical-align: middle;\n",
       "    }\n",
       "\n",
       "    .dataframe tbody tr th {\n",
       "        vertical-align: top;\n",
       "    }\n",
       "\n",
       "    .dataframe thead th {\n",
       "        text-align: right;\n",
       "    }\n",
       "</style>\n",
       "<table border=\"1\" class=\"dataframe\">\n",
       "  <thead>\n",
       "    <tr style=\"text-align: right;\">\n",
       "      <th></th>\n",
       "      <th>timestamp</th>\n",
       "      <th>value</th>\n",
       "      <th>identifier</th>\n",
       "      <th>value_type_id</th>\n",
       "      <th>location_id</th>\n",
       "    </tr>\n",
       "  </thead>\n",
       "  <tbody>\n",
       "    <tr>\n",
       "      <th>4495</th>\n",
       "      <td>2019-05-01 19:40:09</td>\n",
       "      <td>0.00</td>\n",
       "      <td>P1H</td>\n",
       "      <td>12</td>\n",
       "      <td>23.0</td>\n",
       "    </tr>\n",
       "    <tr>\n",
       "      <th>198529</th>\n",
       "      <td>2019-07-10 20:40:05</td>\n",
       "      <td>15.00</td>\n",
       "      <td>TDP</td>\n",
       "      <td>15</td>\n",
       "      <td>23.0</td>\n",
       "    </tr>\n",
       "    <tr>\n",
       "      <th>73979</th>\n",
       "      <td>2019-06-25 14:31:25</td>\n",
       "      <td>1008.35</td>\n",
       "      <td>PMSL</td>\n",
       "      <td>45</td>\n",
       "      <td>27.0</td>\n",
       "    </tr>\n",
       "    <tr>\n",
       "      <th>290510</th>\n",
       "      <td>2019-07-17 21:00:09</td>\n",
       "      <td>0.00</td>\n",
       "      <td>UVI</td>\n",
       "      <td>16</td>\n",
       "      <td>116.0</td>\n",
       "    </tr>\n",
       "    <tr>\n",
       "      <th>251756</th>\n",
       "      <td>2019-07-15 00:07:09</td>\n",
       "      <td>0.00</td>\n",
       "      <td>P</td>\n",
       "      <td>37</td>\n",
       "      <td>30.0</td>\n",
       "    </tr>\n",
       "  </tbody>\n",
       "</table>\n",
       "</div>"
      ],
      "text/plain": [
       "                  timestamp    value identifier  value_type_id  location_id\n",
       "4495    2019-05-01 19:40:09     0.00        P1H             12         23.0\n",
       "198529  2019-07-10 20:40:05    15.00        TDP             15         23.0\n",
       "73979   2019-06-25 14:31:25  1008.35       PMSL             45         27.0\n",
       "290510  2019-07-17 21:00:09     0.00        UVI             16        116.0\n",
       "251756  2019-07-15 00:07:09     0.00          P             37         30.0"
      ]
     },
     "execution_count": 9,
     "metadata": {},
     "output_type": "execute_result"
    }
   ],
   "source": [
    "# Remove the source_id column, because it does not provide information\n",
    "df = df.drop([\"source_id\"], axis=1)\n",
    "df.head()"
   ]
  },
  {
   "cell_type": "markdown",
   "id": "df51b37c",
   "metadata": {},
   "source": [
    "Each `identifier` can have multiple `value_type_id`s. Each of its `value_type_id`s can show great variance in its `value`s. This means we should use `value_type_id` as the input feature."
   ]
  },
  {
   "cell_type": "code",
   "execution_count": 10,
   "id": "135235d4",
   "metadata": {},
   "outputs": [
    {
     "data": {
      "text/html": [
       "<div>\n",
       "<style scoped>\n",
       "    .dataframe tbody tr th:only-of-type {\n",
       "        vertical-align: middle;\n",
       "    }\n",
       "\n",
       "    .dataframe tbody tr th {\n",
       "        vertical-align: top;\n",
       "    }\n",
       "\n",
       "    .dataframe thead th {\n",
       "        text-align: right;\n",
       "    }\n",
       "</style>\n",
       "<table border=\"1\" class=\"dataframe\">\n",
       "  <thead>\n",
       "    <tr style=\"text-align: right;\">\n",
       "      <th></th>\n",
       "      <th>value</th>\n",
       "    </tr>\n",
       "    <tr>\n",
       "      <th>value_type_id</th>\n",
       "      <th></th>\n",
       "    </tr>\n",
       "  </thead>\n",
       "  <tbody>\n",
       "    <tr>\n",
       "      <th>11</th>\n",
       "      <td>6.00</td>\n",
       "    </tr>\n",
       "    <tr>\n",
       "      <th>21</th>\n",
       "      <td>287.94</td>\n",
       "    </tr>\n",
       "    <tr>\n",
       "      <th>39</th>\n",
       "      <td>14.40</td>\n",
       "    </tr>\n",
       "    <tr>\n",
       "      <th>57</th>\n",
       "      <td>15.40</td>\n",
       "    </tr>\n",
       "  </tbody>\n",
       "</table>\n",
       "</div>"
      ],
      "text/plain": [
       "                value\n",
       "value_type_id        \n",
       "11               6.00\n",
       "21             287.94\n",
       "39              14.40\n",
       "57              15.40"
      ]
     },
     "execution_count": 10,
     "metadata": {},
     "output_type": "execute_result"
    }
   ],
   "source": [
    "# Show the variance of different value_type_ids for temperature\n",
    "df[df[\"identifier\"] == \"T\"][[\"value_type_id\", \"value\"]].groupby(\"value_type_id\").min()"
   ]
  },
  {
   "cell_type": "code",
   "execution_count": 11,
   "id": "570e9720",
   "metadata": {},
   "outputs": [],
   "source": [
    "# Remove the identifier column, because value_type_id will be used\n",
    "df = df.drop([\"identifier\"], axis=1)"
   ]
  },
  {
   "cell_type": "code",
   "execution_count": 12,
   "id": "28669e1c",
   "metadata": {},
   "outputs": [
    {
     "data": {
      "text/html": [
       "<div>\n",
       "<style scoped>\n",
       "    .dataframe tbody tr th:only-of-type {\n",
       "        vertical-align: middle;\n",
       "    }\n",
       "\n",
       "    .dataframe tbody tr th {\n",
       "        vertical-align: top;\n",
       "    }\n",
       "\n",
       "    .dataframe thead th {\n",
       "        text-align: right;\n",
       "    }\n",
       "</style>\n",
       "<table border=\"1\" class=\"dataframe\">\n",
       "  <thead>\n",
       "    <tr style=\"text-align: right;\">\n",
       "      <th></th>\n",
       "      <th>timestamp</th>\n",
       "      <th>value</th>\n",
       "      <th>value_type_id</th>\n",
       "      <th>location_id</th>\n",
       "    </tr>\n",
       "  </thead>\n",
       "  <tbody>\n",
       "    <tr>\n",
       "      <th>4495</th>\n",
       "      <td>2019-05-01 19:40:09</td>\n",
       "      <td>0.00</td>\n",
       "      <td>12</td>\n",
       "      <td>23.0</td>\n",
       "    </tr>\n",
       "    <tr>\n",
       "      <th>198529</th>\n",
       "      <td>2019-07-10 20:40:05</td>\n",
       "      <td>15.00</td>\n",
       "      <td>15</td>\n",
       "      <td>23.0</td>\n",
       "    </tr>\n",
       "    <tr>\n",
       "      <th>73979</th>\n",
       "      <td>2019-06-25 14:31:25</td>\n",
       "      <td>1008.35</td>\n",
       "      <td>45</td>\n",
       "      <td>27.0</td>\n",
       "    </tr>\n",
       "    <tr>\n",
       "      <th>290510</th>\n",
       "      <td>2019-07-17 21:00:09</td>\n",
       "      <td>0.00</td>\n",
       "      <td>16</td>\n",
       "      <td>116.0</td>\n",
       "    </tr>\n",
       "    <tr>\n",
       "      <th>251756</th>\n",
       "      <td>2019-07-15 00:07:09</td>\n",
       "      <td>0.00</td>\n",
       "      <td>37</td>\n",
       "      <td>30.0</td>\n",
       "    </tr>\n",
       "  </tbody>\n",
       "</table>\n",
       "</div>"
      ],
      "text/plain": [
       "                  timestamp    value  value_type_id  location_id\n",
       "4495    2019-05-01 19:40:09     0.00             12         23.0\n",
       "198529  2019-07-10 20:40:05    15.00             15         23.0\n",
       "73979   2019-06-25 14:31:25  1008.35             45         27.0\n",
       "290510  2019-07-17 21:00:09     0.00             16        116.0\n",
       "251756  2019-07-15 00:07:09     0.00             37         30.0"
      ]
     },
     "execution_count": 12,
     "metadata": {},
     "output_type": "execute_result"
    }
   ],
   "source": [
    "df.head()"
   ]
  },
  {
   "cell_type": "code",
   "execution_count": 13,
   "id": "0371e19a",
   "metadata": {},
   "outputs": [
    {
     "data": {
      "text/html": [
       "<div>\n",
       "<style scoped>\n",
       "    .dataframe tbody tr th:only-of-type {\n",
       "        vertical-align: middle;\n",
       "    }\n",
       "\n",
       "    .dataframe tbody tr th {\n",
       "        vertical-align: top;\n",
       "    }\n",
       "\n",
       "    .dataframe thead th {\n",
       "        text-align: right;\n",
       "    }\n",
       "</style>\n",
       "<table border=\"1\" class=\"dataframe\">\n",
       "  <thead>\n",
       "    <tr style=\"text-align: right;\">\n",
       "      <th></th>\n",
       "      <th>Season_0</th>\n",
       "      <th>Season_1</th>\n",
       "      <th>Season_2</th>\n",
       "      <th>Season_3</th>\n",
       "      <th>Season_4</th>\n",
       "      <th>Season_5</th>\n",
       "      <th>Season_6</th>\n",
       "      <th>Slot_0</th>\n",
       "      <th>Slot_1</th>\n",
       "      <th>Slot_2</th>\n",
       "      <th>Slot_3</th>\n",
       "      <th>Slot_4</th>\n",
       "      <th>Slot_5</th>\n",
       "      <th>Slot_6</th>\n",
       "      <th>Slot_7</th>\n",
       "      <th>Slot_8</th>\n",
       "      <th>Slot_9</th>\n",
       "      <th>Slot_10</th>\n",
       "      <th>Slot_11</th>\n",
       "    </tr>\n",
       "  </thead>\n",
       "  <tbody>\n",
       "    <tr>\n",
       "      <th>0</th>\n",
       "      <td>True</td>\n",
       "      <td>False</td>\n",
       "      <td>False</td>\n",
       "      <td>False</td>\n",
       "      <td>False</td>\n",
       "      <td>False</td>\n",
       "      <td>False</td>\n",
       "      <td>False</td>\n",
       "      <td>False</td>\n",
       "      <td>False</td>\n",
       "      <td>False</td>\n",
       "      <td>False</td>\n",
       "      <td>False</td>\n",
       "      <td>False</td>\n",
       "      <td>False</td>\n",
       "      <td>False</td>\n",
       "      <td>True</td>\n",
       "      <td>False</td>\n",
       "      <td>False</td>\n",
       "    </tr>\n",
       "    <tr>\n",
       "      <th>1</th>\n",
       "      <td>False</td>\n",
       "      <td>False</td>\n",
       "      <td>False</td>\n",
       "      <td>False</td>\n",
       "      <td>False</td>\n",
       "      <td>True</td>\n",
       "      <td>False</td>\n",
       "      <td>False</td>\n",
       "      <td>False</td>\n",
       "      <td>False</td>\n",
       "      <td>False</td>\n",
       "      <td>False</td>\n",
       "      <td>False</td>\n",
       "      <td>False</td>\n",
       "      <td>False</td>\n",
       "      <td>False</td>\n",
       "      <td>False</td>\n",
       "      <td>True</td>\n",
       "      <td>False</td>\n",
       "    </tr>\n",
       "    <tr>\n",
       "      <th>2</th>\n",
       "      <td>False</td>\n",
       "      <td>False</td>\n",
       "      <td>False</td>\n",
       "      <td>False</td>\n",
       "      <td>True</td>\n",
       "      <td>False</td>\n",
       "      <td>False</td>\n",
       "      <td>False</td>\n",
       "      <td>False</td>\n",
       "      <td>False</td>\n",
       "      <td>False</td>\n",
       "      <td>False</td>\n",
       "      <td>False</td>\n",
       "      <td>False</td>\n",
       "      <td>True</td>\n",
       "      <td>False</td>\n",
       "      <td>False</td>\n",
       "      <td>False</td>\n",
       "      <td>False</td>\n",
       "    </tr>\n",
       "    <tr>\n",
       "      <th>3</th>\n",
       "      <td>False</td>\n",
       "      <td>False</td>\n",
       "      <td>False</td>\n",
       "      <td>False</td>\n",
       "      <td>False</td>\n",
       "      <td>True</td>\n",
       "      <td>False</td>\n",
       "      <td>False</td>\n",
       "      <td>False</td>\n",
       "      <td>False</td>\n",
       "      <td>False</td>\n",
       "      <td>False</td>\n",
       "      <td>False</td>\n",
       "      <td>False</td>\n",
       "      <td>False</td>\n",
       "      <td>False</td>\n",
       "      <td>False</td>\n",
       "      <td>True</td>\n",
       "      <td>False</td>\n",
       "    </tr>\n",
       "    <tr>\n",
       "      <th>4</th>\n",
       "      <td>False</td>\n",
       "      <td>False</td>\n",
       "      <td>False</td>\n",
       "      <td>False</td>\n",
       "      <td>False</td>\n",
       "      <td>True</td>\n",
       "      <td>False</td>\n",
       "      <td>True</td>\n",
       "      <td>False</td>\n",
       "      <td>False</td>\n",
       "      <td>False</td>\n",
       "      <td>False</td>\n",
       "      <td>False</td>\n",
       "      <td>False</td>\n",
       "      <td>False</td>\n",
       "      <td>False</td>\n",
       "      <td>False</td>\n",
       "      <td>False</td>\n",
       "      <td>False</td>\n",
       "    </tr>\n",
       "  </tbody>\n",
       "</table>\n",
       "</div>"
      ],
      "text/plain": [
       "   Season_0  Season_1  Season_2  Season_3  Season_4  Season_5  Season_6  \\\n",
       "0      True     False     False     False     False     False     False   \n",
       "1     False     False     False     False     False      True     False   \n",
       "2     False     False     False     False      True     False     False   \n",
       "3     False     False     False     False     False      True     False   \n",
       "4     False     False     False     False     False      True     False   \n",
       "\n",
       "   Slot_0  Slot_1  Slot_2  Slot_3  Slot_4  Slot_5  Slot_6  Slot_7  Slot_8  \\\n",
       "0   False   False   False   False   False   False   False   False   False   \n",
       "1   False   False   False   False   False   False   False   False   False   \n",
       "2   False   False   False   False   False   False   False    True   False   \n",
       "3   False   False   False   False   False   False   False   False   False   \n",
       "4    True   False   False   False   False   False   False   False   False   \n",
       "\n",
       "   Slot_9  Slot_10  Slot_11  \n",
       "0    True    False    False  \n",
       "1   False     True    False  \n",
       "2   False    False    False  \n",
       "3   False     True    False  \n",
       "4   False    False    False  "
      ]
     },
     "execution_count": 13,
     "metadata": {},
     "output_type": "execute_result"
    }
   ],
   "source": [
    "# Convert the timestamps into a readable format for the ANN\n",
    "timeseries = df[\"timestamp\"]\n",
    "tp = TimeParser(hours_per_slot=2)\n",
    "encoded_timeseries = tp.fit_transform(timeseries)\n",
    "encoded_timeseries.head()"
   ]
  },
  {
   "cell_type": "markdown",
   "id": "22f5dc68",
   "metadata": {},
   "source": [
    "Now, since `value_type_id` and `location_id` are discrete, categorical data, they should be one-hot-encoded."
   ]
  },
  {
   "cell_type": "code",
   "execution_count": 14,
   "id": "a7239fe8",
   "metadata": {},
   "outputs": [],
   "source": [
    "df_cat = df[[\"value_type_id\", \"location_id\"]]"
   ]
  },
  {
   "cell_type": "code",
   "execution_count": 15,
   "id": "2f667e18",
   "metadata": {},
   "outputs": [],
   "source": [
    "enc = OneHotEncoder()\n",
    "encoded_cat = enc.fit_transform(df_cat)\n",
    "encoded_cat = encoded_cat.toarray()"
   ]
  },
  {
   "cell_type": "code",
   "execution_count": 16,
   "id": "9b5a6fbe",
   "metadata": {},
   "outputs": [],
   "source": [
    "# Create the input array\n",
    "X = np.concatenate((encoded_timeseries, encoded_cat), axis=1)"
   ]
  },
  {
   "cell_type": "markdown",
   "id": "37d9eb38",
   "metadata": {},
   "source": [
    "`y` should be scaled for better performance. Based on `value_type_id`, some `value`s are much higher than others and they have different variances. We will apply z-score normalization **per `value_type_id`**, meaning that different means and variances will be computed for different `value_type_id`s."
   ]
  },
  {
   "cell_type": "code",
   "execution_count": 17,
   "id": "d9b12da9",
   "metadata": {},
   "outputs": [
    {
     "data": {
      "text/plain": [
       "((406719, 71), (406719, 1))"
      ]
     },
     "execution_count": 17,
     "metadata": {},
     "output_type": "execute_result"
    }
   ],
   "source": [
    "scale_map = df.groupby(\"value_type_id\")[\"value\"].agg([\"mean\", \"std\"]).rename(columns={\"mean\": \"mu\", \"std\": \"sigma\"})\n",
    "df = df.join(scale_map, on=\"value_type_id\")\n",
    "y = np.expand_dims(np.array((df[\"value\"] - df[\"mu\"]) / df[\"sigma\"]), axis=1)\n",
    "scale_params = df[[\"sigma\", \"mu\"]]\n",
    "X.shape, y.shape"
   ]
  },
  {
   "cell_type": "markdown",
   "id": "02e639ee",
   "metadata": {},
   "source": [
    "For the same `value_type_id`s, `location_id`s and `timestamp`s there are multiple observations from the sensors. This adds noise to our data and makes the prediction harder. For each combination above, the mean value will be calculated and duplicates will be removed."
   ]
  },
  {
   "cell_type": "code",
   "execution_count": 18,
   "id": "8838f728",
   "metadata": {},
   "outputs": [
    {
     "data": {
      "text/plain": [
       "((4795, 71), (4795, 1))"
      ]
     },
     "execution_count": 18,
     "metadata": {},
     "output_type": "execute_result"
    }
   ],
   "source": [
    "X_unique, unique_indices, inverse_indices = np.unique(X, axis=0, return_index=True, return_inverse=True)\n",
    "y_unique = np.array([y[inverse_indices == i].mean() for i in range(len(X_unique))])\n",
    "y_unique = np.expand_dims(y_unique, axis=1)\n",
    "X_unique.shape, y_unique.shape"
   ]
  },
  {
   "cell_type": "code",
   "execution_count": 19,
   "id": "0854f2a7",
   "metadata": {},
   "outputs": [
    {
     "name": "stdout",
     "output_type": "stream",
     "text": [
      "Epoch 1/60\n",
      "\u001b[1m120/120\u001b[0m \u001b[32m━━━━━━━━━━━━━━━━━━━━\u001b[0m\u001b[37m\u001b[0m \u001b[1m1s\u001b[0m 4ms/step - loss: 0.4886 - val_loss: 0.4083\n",
      "Epoch 2/60\n",
      "\u001b[1m120/120\u001b[0m \u001b[32m━━━━━━━━━━━━━━━━━━━━\u001b[0m\u001b[37m\u001b[0m \u001b[1m0s\u001b[0m 3ms/step - loss: 0.3666 - val_loss: 0.3044\n",
      "Epoch 3/60\n",
      "\u001b[1m120/120\u001b[0m \u001b[32m━━━━━━━━━━━━━━━━━━━━\u001b[0m\u001b[37m\u001b[0m \u001b[1m0s\u001b[0m 4ms/step - loss: 0.2606 - val_loss: 0.2727\n",
      "Epoch 4/60\n",
      "\u001b[1m120/120\u001b[0m \u001b[32m━━━━━━━━━━━━━━━━━━━━\u001b[0m\u001b[37m\u001b[0m \u001b[1m0s\u001b[0m 4ms/step - loss: 0.2064 - val_loss: 0.2120\n",
      "Epoch 5/60\n",
      "\u001b[1m120/120\u001b[0m \u001b[32m━━━━━━━━━━━━━━━━━━━━\u001b[0m\u001b[37m\u001b[0m \u001b[1m0s\u001b[0m 3ms/step - loss: 0.1744 - val_loss: 0.1996\n",
      "Epoch 6/60\n",
      "\u001b[1m120/120\u001b[0m \u001b[32m━━━━━━━━━━━━━━━━━━━━\u001b[0m\u001b[37m\u001b[0m \u001b[1m0s\u001b[0m 4ms/step - loss: 0.1533 - val_loss: 0.1746\n",
      "Epoch 7/60\n",
      "\u001b[1m120/120\u001b[0m \u001b[32m━━━━━━━━━━━━━━━━━━━━\u001b[0m\u001b[37m\u001b[0m \u001b[1m0s\u001b[0m 3ms/step - loss: 0.1321 - val_loss: 0.1697\n",
      "Epoch 8/60\n",
      "\u001b[1m120/120\u001b[0m \u001b[32m━━━━━━━━━━━━━━━━━━━━\u001b[0m\u001b[37m\u001b[0m \u001b[1m0s\u001b[0m 3ms/step - loss: 0.1195 - val_loss: 0.1555\n",
      "Epoch 9/60\n",
      "\u001b[1m120/120\u001b[0m \u001b[32m━━━━━━━━━━━━━━━━━━━━\u001b[0m\u001b[37m\u001b[0m \u001b[1m0s\u001b[0m 3ms/step - loss: 0.1107 - val_loss: 0.1525\n",
      "Epoch 10/60\n",
      "\u001b[1m120/120\u001b[0m \u001b[32m━━━━━━━━━━━━━━━━━━━━\u001b[0m\u001b[37m\u001b[0m \u001b[1m0s\u001b[0m 4ms/step - loss: 0.1042 - val_loss: 0.1437\n",
      "Epoch 11/60\n",
      "\u001b[1m120/120\u001b[0m \u001b[32m━━━━━━━━━━━━━━━━━━━━\u001b[0m\u001b[37m\u001b[0m \u001b[1m0s\u001b[0m 3ms/step - loss: 0.0964 - val_loss: 0.1405\n",
      "Epoch 12/60\n",
      "\u001b[1m120/120\u001b[0m \u001b[32m━━━━━━━━━━━━━━━━━━━━\u001b[0m\u001b[37m\u001b[0m \u001b[1m0s\u001b[0m 3ms/step - loss: 0.0910 - val_loss: 0.1463\n",
      "Epoch 13/60\n",
      "\u001b[1m120/120\u001b[0m \u001b[32m━━━━━━━━━━━━━━━━━━━━\u001b[0m\u001b[37m\u001b[0m \u001b[1m0s\u001b[0m 3ms/step - loss: 0.0923 - val_loss: 0.1438\n",
      "Epoch 14/60\n",
      "\u001b[1m120/120\u001b[0m \u001b[32m━━━━━━━━━━━━━━━━━━━━\u001b[0m\u001b[37m\u001b[0m \u001b[1m0s\u001b[0m 3ms/step - loss: 0.0806 - val_loss: 0.1458\n",
      "Epoch 15/60\n",
      "\u001b[1m120/120\u001b[0m \u001b[32m━━━━━━━━━━━━━━━━━━━━\u001b[0m\u001b[37m\u001b[0m \u001b[1m0s\u001b[0m 4ms/step - loss: 0.0773 - val_loss: 0.1362\n",
      "Epoch 16/60\n",
      "\u001b[1m120/120\u001b[0m \u001b[32m━━━━━━━━━━━━━━━━━━━━\u001b[0m\u001b[37m\u001b[0m \u001b[1m0s\u001b[0m 4ms/step - loss: 0.0780 - val_loss: 0.1354\n",
      "Epoch 17/60\n",
      "\u001b[1m120/120\u001b[0m \u001b[32m━━━━━━━━━━━━━━━━━━━━\u001b[0m\u001b[37m\u001b[0m \u001b[1m0s\u001b[0m 4ms/step - loss: 0.0775 - val_loss: 0.1248\n",
      "Epoch 18/60\n",
      "\u001b[1m120/120\u001b[0m \u001b[32m━━━━━━━━━━━━━━━━━━━━\u001b[0m\u001b[37m\u001b[0m \u001b[1m0s\u001b[0m 3ms/step - loss: 0.0751 - val_loss: 0.1306\n",
      "Epoch 19/60\n",
      "\u001b[1m120/120\u001b[0m \u001b[32m━━━━━━━━━━━━━━━━━━━━\u001b[0m\u001b[37m\u001b[0m \u001b[1m0s\u001b[0m 3ms/step - loss: 0.0706 - val_loss: 0.1257\n",
      "Epoch 20/60\n",
      "\u001b[1m120/120\u001b[0m \u001b[32m━━━━━━━━━━━━━━━━━━━━\u001b[0m\u001b[37m\u001b[0m \u001b[1m0s\u001b[0m 3ms/step - loss: 0.0677 - val_loss: 0.1206\n",
      "Epoch 21/60\n",
      "\u001b[1m120/120\u001b[0m \u001b[32m━━━━━━━━━━━━━━━━━━━━\u001b[0m\u001b[37m\u001b[0m \u001b[1m0s\u001b[0m 3ms/step - loss: 0.0670 - val_loss: 0.1331\n",
      "Epoch 22/60\n",
      "\u001b[1m120/120\u001b[0m \u001b[32m━━━━━━━━━━━━━━━━━━━━\u001b[0m\u001b[37m\u001b[0m \u001b[1m0s\u001b[0m 4ms/step - loss: 0.0661 - val_loss: 0.1259\n",
      "Epoch 23/60\n",
      "\u001b[1m120/120\u001b[0m \u001b[32m━━━━━━━━━━━━━━━━━━━━\u001b[0m\u001b[37m\u001b[0m \u001b[1m0s\u001b[0m 4ms/step - loss: 0.0618 - val_loss: 0.1221\n",
      "Epoch 24/60\n",
      "\u001b[1m120/120\u001b[0m \u001b[32m━━━━━━━━━━━━━━━━━━━━\u001b[0m\u001b[37m\u001b[0m \u001b[1m0s\u001b[0m 3ms/step - loss: 0.0607 - val_loss: 0.1242\n",
      "Epoch 25/60\n",
      "\u001b[1m120/120\u001b[0m \u001b[32m━━━━━━━━━━━━━━━━━━━━\u001b[0m\u001b[37m\u001b[0m \u001b[1m0s\u001b[0m 3ms/step - loss: 0.0577 - val_loss: 0.1177\n",
      "Epoch 26/60\n",
      "\u001b[1m120/120\u001b[0m \u001b[32m━━━━━━━━━━━━━━━━━━━━\u001b[0m\u001b[37m\u001b[0m \u001b[1m0s\u001b[0m 4ms/step - loss: 0.0565 - val_loss: 0.1184\n",
      "Epoch 27/60\n",
      "\u001b[1m120/120\u001b[0m \u001b[32m━━━━━━━━━━━━━━━━━━━━\u001b[0m\u001b[37m\u001b[0m \u001b[1m0s\u001b[0m 4ms/step - loss: 0.0567 - val_loss: 0.1156\n",
      "Epoch 28/60\n",
      "\u001b[1m120/120\u001b[0m \u001b[32m━━━━━━━━━━━━━━━━━━━━\u001b[0m\u001b[37m\u001b[0m \u001b[1m0s\u001b[0m 4ms/step - loss: 0.0547 - val_loss: 0.1120\n",
      "Epoch 29/60\n",
      "\u001b[1m120/120\u001b[0m \u001b[32m━━━━━━━━━━━━━━━━━━━━\u001b[0m\u001b[37m\u001b[0m \u001b[1m0s\u001b[0m 4ms/step - loss: 0.0538 - val_loss: 0.1145\n",
      "Epoch 30/60\n",
      "\u001b[1m120/120\u001b[0m \u001b[32m━━━━━━━━━━━━━━━━━━━━\u001b[0m\u001b[37m\u001b[0m \u001b[1m0s\u001b[0m 3ms/step - loss: 0.0555 - val_loss: 0.1121\n",
      "Epoch 31/60\n",
      "\u001b[1m120/120\u001b[0m \u001b[32m━━━━━━━━━━━━━━━━━━━━\u001b[0m\u001b[37m\u001b[0m \u001b[1m0s\u001b[0m 3ms/step - loss: 0.0539 - val_loss: 0.1134\n",
      "Epoch 32/60\n",
      "\u001b[1m120/120\u001b[0m \u001b[32m━━━━━━━━━━━━━━━━━━━━\u001b[0m\u001b[37m\u001b[0m \u001b[1m0s\u001b[0m 3ms/step - loss: 0.0503 - val_loss: 0.1208\n",
      "Epoch 33/60\n",
      "\u001b[1m120/120\u001b[0m \u001b[32m━━━━━━━━━━━━━━━━━━━━\u001b[0m\u001b[37m\u001b[0m \u001b[1m0s\u001b[0m 3ms/step - loss: 0.0542 - val_loss: 0.1141\n"
     ]
    }
   ],
   "source": [
    "wp = WeatherPredictor(\n",
    "    X_unique, y_unique, scale_params.iloc[unique_indices], [256] * 5, \"relu\", \"mae\", \"adam\",\n",
    ")\n",
    "history = wp.fit(epochs=60)"
   ]
  },
  {
   "cell_type": "code",
   "execution_count": 20,
   "id": "78d27085",
   "metadata": {},
   "outputs": [
    {
     "data": {
      "image/png": "[encoded data removed]",
      "text/plain": [
       "<Figure size 640x480 with 1 Axes>"
      ]
     },
     "metadata": {},
     "output_type": "display_data"
    }
   ],
   "source": [
    "plt.plot(history.history[\"val_loss\"])\n",
    "plt.show()"
   ]
  },
  {
   "cell_type": "markdown",
   "id": "1c7a2477",
   "metadata": {},
   "source": [
    "Now, let's calculate the mean absolute error for the predictions of the validation data on their original scale."
   ]
  },
  {
   "cell_type": "code",
   "execution_count": 21,
   "id": "da057752",
   "metadata": {},
   "outputs": [
    {
     "name": "stdout",
     "output_type": "stream",
     "text": [
      "\u001b[1m30/30\u001b[0m \u001b[32m━━━━━━━━━━━━━━━━━━━━\u001b[0m\u001b[37m\u001b[0m \u001b[1m0s\u001b[0m 2ms/step\n"
     ]
    },
    {
     "data": {
      "text/plain": [
       "2.855257480110557"
      ]
     },
     "execution_count": 21,
     "metadata": {},
     "output_type": "execute_result"
    }
   ],
   "source": [
    "y_pred = wp.predict(wp.x_val)\n",
    "y_pred_unscaled = y_pred * np.expand_dims(np.array(wp.scale_params_val[\"sigma\"]), axis=1) + np.expand_dims(np.array(wp.scale_params_val[\"mu\"]), axis=1)\n",
    "y_val_unscaled = wp.y_val * np.expand_dims(np.array(wp.scale_params_val[\"sigma\"]), axis=1) + np.expand_dims(np.array(wp.scale_params_val[\"mu\"]), axis=1)\n",
    "error = np.abs(y_pred_unscaled - y_val_unscaled)\n",
    "float(error.mean())"
   ]
  },
  {
   "cell_type": "markdown",
   "id": "53af16b9",
   "metadata": {},
   "source": [
    "Let's show the predictions for the validation data, sorted by the true values."
   ]
  },
  {
   "cell_type": "code",
   "execution_count": 22,
   "id": "860e2a69",
   "metadata": {},
   "outputs": [],
   "source": [
    "sort_indices = np.argsort(wp.y_val[:, 0])\n",
    "y_pred_unscaled = y_pred_unscaled[sort_indices]\n",
    "y_pred = y_pred[sort_indices]\n",
    "y_val = wp.y_val[sort_indices]\n",
    "y_val_unscaled = y_val_unscaled[sort_indices]"
   ]
  },
  {
   "cell_type": "code",
   "execution_count": 23,
   "id": "d41caf03",
   "metadata": {},
   "outputs": [
    {
     "data": {
      "image/png": "[encoded data removed]",
      "text/plain": [
       "<Figure size 640x480 with 1 Axes>"
      ]
     },
     "metadata": {},
     "output_type": "display_data"
    }
   ],
   "source": [
    "plt.plot(y_pred[:, 0], label=\"predictions\")\n",
    "plt.plot(y_val[:, 0], label=\"target\")\n",
    "plt.legend()\n",
    "plt.show()"
   ]
  }
 ],
 "metadata": {
  "kernelspec": {
   "display_name": "venv",
   "language": "python",
   "name": "python3"
  },
  "language_info": {
   "codemirror_mode": {
    "name": "ipython",
    "version": 3
   },
   "file_extension": ".py",
   "mimetype": "text/x-python",
   "name": "python",
   "nbconvert_exporter": "python",
   "pygments_lexer": "ipython3",
   "version": "3.11.6"
  }
 },
 "nbformat": 4,
 "nbformat_minor": 5
}
